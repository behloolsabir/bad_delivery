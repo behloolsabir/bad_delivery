{
 "cells": [
  {
   "cell_type": "markdown",
   "metadata": {},
   "source": [
    "● Create a model that predicts the dropoff_distance of an order, given some features about the\n",
    "order. A model like this could then be fed into the logistics rider-scheduling algorithms.<br/>\n",
    "● Propose some front-end features that might help reduce dropoff_distance.\n",
    "# To Do\n",
    "1. EDA\n",
    "2. Missing value and outlier treatment\n",
    "3. Feature selection\n",
    "4. Feature Engg\n",
    "5. Model\n",
    "6. Error analysis\n",
    "6. Model understanding\n",
    "7. Next Steps"
   ]
  },
  {
   "cell_type": "code",
   "execution_count": 9,
   "metadata": {},
   "outputs": [],
   "source": [
    "import json\n",
    "import pandas as pd\n",
    "from pandas_profiling import ProfileReport"
   ]
  },
  {
   "cell_type": "code",
   "execution_count": 18,
   "metadata": {},
   "outputs": [],
   "source": [
    "# data = json.load(open(\"../../location_task/location_task_no_nulls.json\", 'rb'))\n",
    "# data_df = pd.DataFrame(data)\n",
    "\n",
    "data_df = pd.read_csv('../data/processed_data/data_sample.csv')\n",
    "\n",
    "# Created sample of 10k to reduce experimentation times\n",
    "# data_df.sample(10000).to_csv('data_sample.csv', index=False)"
   ]
  },
  {
   "cell_type": "code",
   "execution_count": 37,
   "metadata": {},
   "outputs": [],
   "source": [
    "data_df.created_timestamp_local = pd.to_datetime(data_df.created_timestamp_local, infer_datetime_format=True)"
   ]
  },
  {
   "cell_type": "code",
   "execution_count": 38,
   "metadata": {},
   "outputs": [
    {
     "data": {
      "text/html": [
       "<div>\n",
       "<style scoped>\n",
       "    .dataframe tbody tr th:only-of-type {\n",
       "        vertical-align: middle;\n",
       "    }\n",
       "\n",
       "    .dataframe tbody tr th {\n",
       "        vertical-align: top;\n",
       "    }\n",
       "\n",
       "    .dataframe thead th {\n",
       "        text-align: right;\n",
       "    }\n",
       "</style>\n",
       "<table border=\"1\" class=\"dataframe\">\n",
       "  <thead>\n",
       "    <tr style=\"text-align: right;\">\n",
       "      <th></th>\n",
       "      <th>order_id</th>\n",
       "      <th>order_value</th>\n",
       "      <th>order_items_count</th>\n",
       "      <th>customer_id</th>\n",
       "      <th>created_timestamp_local</th>\n",
       "      <th>has_instruction</th>\n",
       "      <th>logistics_dropoff_distance</th>\n",
       "      <th>delivery_postal_code</th>\n",
       "      <th>delivery_geohash_precision8</th>\n",
       "      <th>has_phone_number</th>\n",
       "      <th>has_call_instruction</th>\n",
       "      <th>has_leave_instruction</th>\n",
       "      <th>has_lift_instruction</th>\n",
       "      <th>has_lobby_instruction</th>\n",
       "      <th>has_gate_instruction</th>\n",
       "      <th>has_knock_instruction</th>\n",
       "      <th>has_bell_instruction</th>\n",
       "    </tr>\n",
       "  </thead>\n",
       "  <tbody>\n",
       "    <tr>\n",
       "      <th>0</th>\n",
       "      <td>y7ge-p8qa</td>\n",
       "      <td>26.6</td>\n",
       "      <td>3</td>\n",
       "      <td>sgrrf0nl</td>\n",
       "      <td>2021-03-06 22:34:32</td>\n",
       "      <td>True</td>\n",
       "      <td>35.674674</td>\n",
       "      <td>200804</td>\n",
       "      <td>w21z7qhg</td>\n",
       "      <td>False</td>\n",
       "      <td>False</td>\n",
       "      <td>False</td>\n",
       "      <td>False</td>\n",
       "      <td>False</td>\n",
       "      <td>False</td>\n",
       "      <td>False</td>\n",
       "      <td>False</td>\n",
       "    </tr>\n",
       "    <tr>\n",
       "      <th>1</th>\n",
       "      <td>n3qu-jf22</td>\n",
       "      <td>38.7</td>\n",
       "      <td>1</td>\n",
       "      <td>sg4q5gu1</td>\n",
       "      <td>2021-03-05 09:29:50</td>\n",
       "      <td>True</td>\n",
       "      <td>18.494004</td>\n",
       "      <td>479245</td>\n",
       "      <td>w21zsgxh</td>\n",
       "      <td>True</td>\n",
       "      <td>False</td>\n",
       "      <td>False</td>\n",
       "      <td>False</td>\n",
       "      <td>False</td>\n",
       "      <td>False</td>\n",
       "      <td>False</td>\n",
       "      <td>False</td>\n",
       "    </tr>\n",
       "    <tr>\n",
       "      <th>2</th>\n",
       "      <td>a0ae-x3pg</td>\n",
       "      <td>13.0</td>\n",
       "      <td>1</td>\n",
       "      <td>sgfjwiep</td>\n",
       "      <td>2021-03-20 22:13:49</td>\n",
       "      <td>True</td>\n",
       "      <td>7.272063</td>\n",
       "      <td>NaN</td>\n",
       "      <td>w21z66rg</td>\n",
       "      <td>False</td>\n",
       "      <td>False</td>\n",
       "      <td>False</td>\n",
       "      <td>False</td>\n",
       "      <td>False</td>\n",
       "      <td>False</td>\n",
       "      <td>True</td>\n",
       "      <td>False</td>\n",
       "    </tr>\n",
       "    <tr>\n",
       "      <th>3</th>\n",
       "      <td>x1fi-03bv</td>\n",
       "      <td>6.9</td>\n",
       "      <td>1</td>\n",
       "      <td>w9qee4jq</td>\n",
       "      <td>2021-03-09 13:55:53</td>\n",
       "      <td>True</td>\n",
       "      <td>48.315706</td>\n",
       "      <td>534208</td>\n",
       "      <td>w21zu3fx</td>\n",
       "      <td>False</td>\n",
       "      <td>False</td>\n",
       "      <td>False</td>\n",
       "      <td>False</td>\n",
       "      <td>False</td>\n",
       "      <td>False</td>\n",
       "      <td>False</td>\n",
       "      <td>False</td>\n",
       "    </tr>\n",
       "    <tr>\n",
       "      <th>4</th>\n",
       "      <td>i4eh-xpfh</td>\n",
       "      <td>10.2</td>\n",
       "      <td>3</td>\n",
       "      <td>sgjgw3du</td>\n",
       "      <td>2021-03-23 19:10:36</td>\n",
       "      <td>True</td>\n",
       "      <td>66.286650</td>\n",
       "      <td>560538</td>\n",
       "      <td>w21zg4rw</td>\n",
       "      <td>False</td>\n",
       "      <td>False</td>\n",
       "      <td>False</td>\n",
       "      <td>True</td>\n",
       "      <td>False</td>\n",
       "      <td>True</td>\n",
       "      <td>False</td>\n",
       "      <td>False</td>\n",
       "    </tr>\n",
       "  </tbody>\n",
       "</table>\n",
       "</div>"
      ],
      "text/plain": [
       "    order_id  order_value  order_items_count customer_id  \\\n",
       "0  y7ge-p8qa         26.6                  3    sgrrf0nl   \n",
       "1  n3qu-jf22         38.7                  1    sg4q5gu1   \n",
       "2  a0ae-x3pg         13.0                  1    sgfjwiep   \n",
       "3  x1fi-03bv          6.9                  1    w9qee4jq   \n",
       "4  i4eh-xpfh         10.2                  3    sgjgw3du   \n",
       "\n",
       "  created_timestamp_local  has_instruction  logistics_dropoff_distance  \\\n",
       "0     2021-03-06 22:34:32             True                   35.674674   \n",
       "1     2021-03-05 09:29:50             True                   18.494004   \n",
       "2     2021-03-20 22:13:49             True                    7.272063   \n",
       "3     2021-03-09 13:55:53             True                   48.315706   \n",
       "4     2021-03-23 19:10:36             True                   66.286650   \n",
       "\n",
       "  delivery_postal_code delivery_geohash_precision8  has_phone_number  \\\n",
       "0               200804                    w21z7qhg             False   \n",
       "1               479245                    w21zsgxh              True   \n",
       "2                  NaN                    w21z66rg             False   \n",
       "3               534208                    w21zu3fx             False   \n",
       "4               560538                    w21zg4rw             False   \n",
       "\n",
       "   has_call_instruction  has_leave_instruction  has_lift_instruction  \\\n",
       "0                 False                  False                 False   \n",
       "1                 False                  False                 False   \n",
       "2                 False                  False                 False   \n",
       "3                 False                  False                 False   \n",
       "4                 False                  False                  True   \n",
       "\n",
       "   has_lobby_instruction  has_gate_instruction  has_knock_instruction  \\\n",
       "0                  False                 False                  False   \n",
       "1                  False                 False                  False   \n",
       "2                  False                 False                   True   \n",
       "3                  False                 False                  False   \n",
       "4                  False                  True                  False   \n",
       "\n",
       "   has_bell_instruction  \n",
       "0                 False  \n",
       "1                 False  \n",
       "2                 False  \n",
       "3                 False  \n",
       "4                 False  "
      ]
     },
     "execution_count": 38,
     "metadata": {},
     "output_type": "execute_result"
    }
   ],
   "source": [
    "data_df.head()"
   ]
  },
  {
   "cell_type": "code",
   "execution_count": 6,
   "metadata": {},
   "outputs": [
    {
     "data": {
      "text/plain": [
       "(2593799, 17)"
      ]
     },
     "execution_count": 6,
     "metadata": {},
     "output_type": "execute_result"
    }
   ],
   "source": [
    "data_df.shape"
   ]
  },
  {
   "cell_type": "code",
   "execution_count": 21,
   "metadata": {},
   "outputs": [],
   "source": [
    "profile = ProfileReport(data_df, title=\"Delivery Data Report\", explorative=True)"
   ]
  },
  {
   "cell_type": "markdown",
   "metadata": {},
   "source": [
    "# EDA \n",
    "Observations\n",
    "1. High cardinality for order_id, customer_id, timestamp, postal code, geohash. So these features need to be treated before use or should be ignored for modeling activity depending on what they bring to the table. \n",
    "    1. Geohash can be converted into 8 features of 1 bit each\n",
    "    1. Time stamp can be converted into hour, day of the week, day of the month\n",
    "    1. customer_id can be changed to # of historical orders made\n",
    "1. High correlation between has_* fields. So, some dimentionality reduction might be helpful. "
   ]
  },
  {
   "cell_type": "code",
   "execution_count": 22,
   "metadata": {},
   "outputs": [
    {
     "data": {
      "application/vnd.jupyter.widget-view+json": {
       "model_id": "9974e43911b444d8bf4284fca183d338",
       "version_major": 2,
       "version_minor": 0
      },
      "text/plain": [
       "Summarize dataset:   0%|          | 0/30 [00:00<?, ?it/s]"
      ]
     },
     "metadata": {},
     "output_type": "display_data"
    },
    {
     "data": {
      "application/vnd.jupyter.widget-view+json": {
       "model_id": "9b37189563294d118d6ea1f167f0a85d",
       "version_major": 2,
       "version_minor": 0
      },
      "text/plain": [
       "Generate report structure:   0%|          | 0/1 [00:00<?, ?it/s]"
      ]
     },
     "metadata": {},
     "output_type": "display_data"
    },
    {
     "data": {
      "application/vnd.jupyter.widget-view+json": {
       "model_id": "",
       "version_major": 2,
       "version_minor": 0
      },
      "text/plain": [
       "Render widgets:   0%|          | 0/1 [00:00<?, ?it/s]"
      ]
     },
     "metadata": {},
     "output_type": "display_data"
    },
    {
     "data": {
      "application/vnd.jupyter.widget-view+json": {
       "model_id": "37d1801585ac476e906ce56b5ce94316",
       "version_major": 2,
       "version_minor": 0
      },
      "text/plain": [
       "VBox(children=(Tab(children=(Tab(children=(GridBox(children=(VBox(children=(GridspecLayout(children=(HTML(valu…"
      ]
     },
     "metadata": {},
     "output_type": "display_data"
    }
   ],
   "source": [
    "profile.to_widgets()"
   ]
  },
  {
   "cell_type": "markdown",
   "metadata": {},
   "source": [
    "# Feature Engineering\n",
    "1. Time feature engg\n",
    "1. Geohash feature engg"
   ]
  },
  {
   "cell_type": "code",
   "execution_count": 43,
   "metadata": {},
   "outputs": [],
   "source": [
    "data_df['created_timestamp_local_dayofweek'] = data_df.created_timestamp_local.dt.dayofweek\n",
    "data_df['created_timestamp_local_day'] = data_df.created_timestamp_local.dt.day\n",
    "data_df['created_timestamp_local_hour'] = data_df.created_timestamp_local.dt.hour"
   ]
  },
  {
   "cell_type": "code",
   "execution_count": 72,
   "metadata": {},
   "outputs": [],
   "source": [
    "for idx in range(1, 9):\n",
    "    data_df[f'delivery_geohash_precision8_{idx}'] = data_df.delivery_geohash_precision8.str.split('').str[idx]"
   ]
  }
 ],
 "metadata": {
  "interpreter": {
   "hash": "1232ea644893bf1e1b41c3efb6b7bfb77f33de1aa0f3e139b8a58c5d85b67070"
  },
  "kernelspec": {
   "display_name": "Python (delivery)",
   "language": "python",
   "name": "delivery"
  },
  "language_info": {
   "codemirror_mode": {
    "name": "ipython",
    "version": 3
   },
   "file_extension": ".py",
   "mimetype": "text/x-python",
   "name": "python",
   "nbconvert_exporter": "python",
   "pygments_lexer": "ipython3",
   "version": "3.9.5"
  }
 },
 "nbformat": 4,
 "nbformat_minor": 2
}
